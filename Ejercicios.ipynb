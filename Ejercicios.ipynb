{
  "nbformat": 4,
  "nbformat_minor": 0,
  "metadata": {
    "colab": {
      "provenance": [],
      "authorship_tag": "ABX9TyO/3GSKYJBwuDvA36C6648S",
      "include_colab_link": true
    },
    "kernelspec": {
      "name": "python3",
      "display_name": "Python 3"
    },
    "language_info": {
      "name": "python"
    }
  },
  "cells": [
    {
      "cell_type": "markdown",
      "metadata": {
        "id": "view-in-github",
        "colab_type": "text"
      },
      "source": [
        "<a href=\"https://colab.research.google.com/github/Daianb/TareasProgramacion/blob/master/Ejercicios.ipynb\" target=\"_parent\"><img src=\"https://colab.research.google.com/assets/colab-badge.svg\" alt=\"Open In Colab\"/></a>"
      ]
    },
    {
      "cell_type": "code",
      "source": [
        "#Piedra papel o tijeras\n",
        "\n",
        "import random\n",
        "opciones = [\"piedra\", \"papel\", \"tijera\"]\n",
        "rondas = int(input(\"Ingrese el número de rondas que desea jugar: \"))\n",
        "\n",
        "puntosU = 0\n",
        "puntosPC = 0\n",
        "\n",
        "for i in range(rondas):\n",
        "    print(f\"Ronda {i + 1}\")\n",
        "    eleccionU = input(\"¿piedra, papel o tijera? : \").lower()\n",
        "    while eleccionU not in opciones:\n",
        "        eleccionU = input(\"Opción inválida. Intente de nuevo: \")\n",
        "    eleccionPC = random.choice(opciones)\n",
        "    print(f\"La computadora eligió: {eleccionPC}\")\n",
        "\n",
        "    if eleccionU == eleccionPC:\n",
        "        print(f\"Es un empate. Ambos eligieron {eleccionU}\")\n",
        "    elif eleccionU == \"piedra\" and eleccionPC == \"tijera\" \\\n",
        "            or eleccionU == \"papel\" and eleccionPC == \"piedra\" \\\n",
        "            or eleccionU == \"tijera\" and eleccionPC == \"papel\":\n",
        "        print(f\"Ganaste, {eleccionU} le gana a {eleccionPC}\")\n",
        "        puntosU += 1\n",
        "    else:\n",
        "         print(f\"Perdiste, {eleccionPC} le gana a {eleccionU}\")\n",
        "         puntosPC += 1\n",
        "\n",
        "print(f\"\\n El puntaje final es:\")\n",
        "print(f\"Jugador: {puntosU}\")\n",
        "print(f\"Computadora: {puntosPC}\")\n",
        "\n",
        "if puntosU > puntosPC:\n",
        "    print(\"Felicitacionesss ganaste este juego!\")\n",
        "elif puntosPC > puntosU:\n",
        "    print(\"Awww pobre, has perdido el juego.\")\n",
        "else:\n",
        "    print(\"Es un empate prro, revancha! .\")"
      ],
      "metadata": {
        "colab": {
          "base_uri": "https://localhost:8080/"
        },
        "id": "Rw9ann6xRGDa",
        "outputId": "2c773f94-66c1-412e-a2f7-6de1e36484ce"
      },
      "execution_count": null,
      "outputs": [
        {
          "output_type": "stream",
          "name": "stdout",
          "text": [
            "Ingrese el número de rondas que desea jugar: 2\n",
            "Ronda 1\n",
            "¿piedra, papel o tijera? : tijera\n",
            "La computadora eligió: papel\n",
            "Ganaste, tijera le gana a papel\n",
            "Ronda 2\n",
            "¿piedra, papel o tijera? : papel\n",
            "La computadora eligió: piedra\n",
            "Ganaste, papel le gana a piedra\n",
            "\n",
            " El puntaje final es:\n",
            "Jugador: 2\n",
            "Computadora: 0\n",
            "Felicitacionesss ganaste este juego!\n"
          ]
        }
      ]
    },
    {
      "cell_type": "code",
      "execution_count": null,
      "metadata": {
        "id": "iJzldH9RwaEb",
        "colab": {
          "base_uri": "https://localhost:8080/"
        },
        "outputId": "5131e335-23f2-4114-8b71-677541e923fc"
      },
      "outputs": [
        {
          "output_type": "stream",
          "name": "stdout",
          "text": [
            "Ingresa el numero mayor: 14\n",
            "Ingresa el numero menor: 8\n",
            "El MCD de estos dos numeros es 2 \n"
          ]
        }
      ],
      "source": [
        "#MCD\n",
        "\n",
        "a = int(input(\"Ingresa el numero mayor: \"))\n",
        "b = int(input(\"Ingresa el numero menor: \"))\n",
        "\n",
        "def MCD(a, b):\n",
        " while b != 0:\n",
        "   a, b = b, a % b\n",
        " return a\n",
        "\n",
        "print(f\"El MCD de estos dos numeros es {MCD(a, b)} \")"
      ]
    },
    {
      "cell_type": "code",
      "source": [
        "#Numeros mayor y menor\n",
        "\n",
        "num = []\n",
        "\n",
        "for i in range(10):\n",
        "    numero = int(input(\"Ingrese un número: \"))\n",
        "    num.append(numero)\n",
        "\n",
        "mayor = max(num)\n",
        "menor = min(num)\n",
        "\n",
        "print(f\"\\n El número mayor es {mayor}\")\n",
        "print(f\"El número menor es {menor}\")"
      ],
      "metadata": {
        "colab": {
          "base_uri": "https://localhost:8080/"
        },
        "id": "MQqWPTmrSs0Y",
        "outputId": "a1f82dec-5568-480b-a3b6-9390c1bd82b7"
      },
      "execution_count": null,
      "outputs": [
        {
          "output_type": "stream",
          "name": "stdout",
          "text": [
            "Ingrese un número: 5\n",
            "Ingrese un número: 1\n",
            "Ingrese un número: 3\n",
            "Ingrese un número: 8\n",
            "Ingrese un número: 1\n",
            "Ingrese un número: 6\n",
            "Ingrese un número: 4\n",
            "Ingrese un número: 6\n",
            "Ingrese un número: 4\n",
            "Ingrese un número: 6\n",
            "\n",
            " El número mayor es 8\n",
            "El número menor es 1\n"
          ]
        }
      ]
    },
    {
      "cell_type": "code",
      "source": [
        "#Calificaciones\n",
        "\n",
        "calificaciones = []\n",
        "i = float(input(\"Ingresa las calificaciones y escribe un número negativo si deseas salir): \"))\n",
        "\n",
        "while i >= 0:\n",
        "    calificaciones.append(i)\n",
        "    i = float(input(\"Ingresa otra calificación: \"))\n",
        "\n",
        "if len(calificaciones) == 0:\n",
        "    print(\"No se ingresaron calificaciones\")\n",
        "else:\n",
        "    min_calificacion = min(calificaciones)\n",
        "    max_calificacion = max(calificaciones)\n",
        "    promedio_calificaciones = sum(calificaciones) / len(calificaciones)\n",
        "    print(f\"\\n La nota más baja es: {min_calificacion}\")\n",
        "    print(f\"La nota más alta es: {max_calificacion}\")\n",
        "    print(f\"El promedio de las calificaciones es: {promedio_calificaciones}\")"
      ],
      "metadata": {
        "colab": {
          "base_uri": "https://localhost:8080/"
        },
        "id": "igny5lMATBsA",
        "outputId": "aa94e154-1ed7-4083-ec0c-3b5094d8ef53"
      },
      "execution_count": null,
      "outputs": [
        {
          "output_type": "stream",
          "name": "stdout",
          "text": [
            "Ingresa las calificaciones y escribe un número negativo si deseas salir): 5\n",
            "Ingresa otra calificación: 2.6\n",
            "Ingresa otra calificación: 1\n",
            "Ingresa otra calificación: 4.5\n",
            "Ingresa otra calificación: -5\n",
            "\n",
            " La nota más baja es: 1.0\n",
            "La nota más alta es: 5.0\n",
            "El promedio de las calificaciones es: 3.275\n"
          ]
        }
      ]
    }
  ]
}