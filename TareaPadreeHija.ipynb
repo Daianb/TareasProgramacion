{
  "nbformat": 4,
  "nbformat_minor": 0,
  "metadata": {
    "colab": {
      "provenance": [],
      "authorship_tag": "ABX9TyMtS0FcUKlDASYE46IkFjMh",
      "include_colab_link": true
    },
    "kernelspec": {
      "name": "python3",
      "display_name": "Python 3"
    },
    "language_info": {
      "name": "python"
    }
  },
  "cells": [
    {
      "cell_type": "markdown",
      "metadata": {
        "id": "view-in-github",
        "colab_type": "text"
      },
      "source": [
        "<a href=\"https://colab.research.google.com/github/Daianb/TareasProgramacion/blob/master/TareaPadreeHija.ipynb\" target=\"_parent\"><img src=\"https://colab.research.google.com/assets/colab-badge.svg\" alt=\"Open In Colab\"/></a>"
      ]
    },
    {
      "cell_type": "markdown",
      "source": [
        "Construya dos clases, un padre y una hija.\n",
        "La clase padre debe tener almenos 3 metodos, uno de los cuales debe ser dunder (además del \\_\\_init__)\n",
        "\\_\\_getitem__ \\_\\_setitem__ \\_\\_add__ \\_\\_str__ \\_\\_dif__ \\_\\_eq__ \\_\\_lt__ \\_\\_gt__ \\_\\_sub__ \n",
        "\n",
        " Para el hijo:\n",
        "\n",
        "+ Heredar y modificar (Super()) los tres metodos y el constructor \n",
        "\n",
        "+ Usar dos tipos de colecciones diferentes (list dicc str set tuple)\n",
        "\n",
        "+ Usar un metodo aleatorio o de spicy\n",
        "\n",
        "\n",
        "super().metodopadre(args.)"
      ],
      "metadata": {
        "id": "_NcEG0rFvJ9t"
      }
    },
    {
      "cell_type": "markdown",
      "source": [
        "https://blog.finxter.com/python-dunder-methods-cheat-sheet/"
      ],
      "metadata": {
        "id": "iGZFkZwBFkIW"
      }
    },
    {
      "cell_type": "code",
      "source": [
        "import random\n",
        "\n",
        "class Padre:\n",
        "    def __init__(self, facultad):\n",
        "        self.facultad = facultad\n",
        "\n",
        "    def __repr__(self):\n",
        "        return '{}'.format(self.facultad)\n",
        "\n",
        "    def __add__(self, other):\n",
        "        return self.facultad + other  \n",
        "\n",
        "    # def __and__(self, other):\n",
        "    #     return self.facultad + ' ' + other\n",
        "\n",
        "    def __index__(self):\n",
        "        res = random.randint(0, 10)\n",
        "        return res\n",
        "\n",
        "class Hija(Padre):\n",
        "    def __init__(self, facultad, programa):\n",
        "        super().__init__(facultad)\n",
        "        self.programa = programa\n",
        "\n",
        "    def __repr__(self):\n",
        "        ree = super().__repr__()\n",
        "        respu = str(ree) + str(\" y \") + str(nombre_programa)\n",
        "        return respu\n",
        "\n",
        "    def __add__(self, other):\n",
        "        adi = str(super().__add__(other)) \n",
        "        ads = adi + \"!!!!\"\n",
        "        return ads\n",
        "        \n",
        "    def __index__(self):\n",
        "        #res = random.randint(0, 10)\n",
        "        letras = \"abcdefghijklmnopqrstuvwxyz\"\n",
        "        ress = int(super().__index__()),str(random.choice(letras))\n",
        "        return ress\n",
        "\n",
        "\n",
        "# Solicitar los datos al usuario\n",
        "# nombre_facultad = str(\"Basicas\") \n",
        "# nombre_programa = str(\"Fisica\") \n",
        "# numero_semestre = int(5) \n",
        "nombre_facultad = input(\"Ingrese nombre de la facultad: \")\n",
        "nombre_programa = input(\"Ingrese nombre del programa: \")\n",
        "numero_semestre = input(\"Ingrese número del semestre: \")\n",
        "\n",
        "# Crear instancias de las clases Padre y Hija\n",
        "padre = Padre(nombre_facultad)\n",
        "hija = Hija(nombre_facultad, nombre_programa)\n",
        "\n",
        "# Imprimir representación de objetos y concatenar strings utilizando los métodos especiales\n",
        "print(\" Estas en: \")\n",
        "print(\"ciencias \" + str(padre))\n",
        "print(\"ciencias \" + str(hija.__add__('')))\n",
        "\n",
        "# print(padre & nombre_programa)\n",
        "print(\"Estas en el semestre\", numero_semestre, \"del programa de\", nombre_programa, \"de la facultad\", nombre_facultad)\n",
        "print(\"Estas en el semestre\", numero_semestre, \"de la facultad y programa: \" + str(hija.__repr__()))\n",
        "\n",
        "# Obtener un número aleatorio utilizando el método especial __index__\n",
        "numero_aleatorio = int(padre)\n",
        "print(\"Eres el estudiante\",str(hija.__index__()), \"de tu semestre\")"
      ],
      "metadata": {
        "colab": {
          "base_uri": "https://localhost:8080/"
        },
        "id": "6NHZMnem-Jf9",
        "outputId": "a9f847e0-6fff-45ef-9a53-e685b47478f3"
      },
      "execution_count": 87,
      "outputs": [
        {
          "output_type": "stream",
          "name": "stdout",
          "text": [
            "Ingrese nombre de la facultad: Basicas\n",
            "Ingrese nombre del programa: Fisica\n",
            "Ingrese número del semestre: 4\n",
            " Estas en: \n",
            "ciencias Basicas\n",
            "ciencias Basicas!!!!\n",
            "Estas en el semestre 4 del programa de Fisica de la facultad Basicas\n",
            "Estas en el semestre 4 de la facultad y programa: Basicas y Fisica\n",
            "Eres el estudiante (1, 'b') de tu semestre\n"
          ]
        }
      ]
    }
  ]
}