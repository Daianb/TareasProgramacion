{
  "nbformat": 4,
  "nbformat_minor": 0,
  "metadata": {
    "colab": {
      "provenance": [],
      "authorship_tag": "ABX9TyOoH7TkvEaBEzLBBdvIsuVL",
      "include_colab_link": true
    },
    "kernelspec": {
      "name": "python3",
      "display_name": "Python 3"
    },
    "language_info": {
      "name": "python"
    }
  },
  "cells": [
    {
      "cell_type": "markdown",
      "metadata": {
        "id": "view-in-github",
        "colab_type": "text"
      },
      "source": [
        "<a href=\"https://colab.research.google.com/github/Daianb/TareasProgramacion/blob/master/Hanoi.ipynb\" target=\"_parent\"><img src=\"https://colab.research.google.com/assets/colab-badge.svg\" alt=\"Open In Colab\"/></a>"
      ]
    },
    {
      "cell_type": "code",
      "execution_count": null,
      "metadata": {
        "id": "dGV2pUim-uHa"
      },
      "outputs": [],
      "source": [
        "def hanoi(n, origen, destino, auxiliar):\n",
        "    if n == 1:\n",
        "        print(\"Mover disco 1 desde\", origen, \"hasta\", destino)\n",
        "\n",
        "    elif n != int:\n",
        "        print('Valor no valido, intenta nuevamente. ')\n",
        "    else:\n",
        "        hanoi(n-1, origen, auxiliar, destino)\n",
        "        print(\"Mover disco\", n, \"desde\", origen, \"hasta\", destino)\n",
        "        hanoi(n-1, auxiliar, destino, origen)\n",
        "   \n",
        "# Ejemplo de uso\n",
        "print('\\nVoy a mostarte como jugar al juego de Hanoi! \\n')\n",
        "print('Ten en cuenta que tu juego y los pilares nombrados se ven asi: \\n')\n",
        "print('    |     |     |   ')\n",
        "print('    |     |     |   ')\n",
        "print('    |     |     |   ')\n",
        "print('   ___   ___   ___  ')\n",
        "print('    A     B     C')\n",
        "num_discos = int(input(\"\\nIngresa el número de discos con los que vas a jugar: \"))\n",
        "hanoi(num_discos, 'A', 'C', 'B')\n"
      ]
    },
    {
      "cell_type": "code",
      "source": [
        "def hanoi(n, origen, destino, auxiliar):\n",
        "    if n == 1:\n",
        "        print(\"Mover disco 1 desde\", origen, \"hasta\", destino)\n",
        "\n",
        "    else:\n",
        "        hanoi(n-1, origen, auxiliar, destino)\n",
        "        print(\"Mover disco\", n, \"desde\", origen, \"hasta\", destino)\n",
        "        hanoi(n-1, auxiliar, destino, origen)\n",
        "\n",
        "\n",
        "\n",
        "# Menú de usuario\n",
        "print(\"Bienvenido al juego de la Torre de Hanoi\")\n",
        "print('\\nVoy a mostarte como moverte para jugar este juego! \\n')\n",
        "print('Ten en cuenta que tu juego y los pilares nombrados se ven asi: \\n')\n",
        "print('    |     |     |   ')\n",
        "print('    |     |     |   ')\n",
        "print('    |     |     |   ')\n",
        "print('   ___   ___   ___  ')\n",
        "print('    A     B     C\\n')\n",
        "\n",
        "while True:\n",
        "    try:\n",
        "        discos = int(input(\"Ingresa el número de discos con los que vas a jugar: \"))\n",
        "        if discos <= 0:\n",
        "            print(\"\\nPon un numero valido \\n\")\n",
        "        else:\n",
        "            break\n",
        "    except ValueError:\n",
        "        print(\"\\nDebes ingresar un número de valor entero \\n\")\n",
        "\n",
        "print(\"Los movimientos que debes realizar son los siguientes: \\n\")\n",
        "hanoi(discos, \"A\", \"C\", \"B\")"
      ],
      "metadata": {
        "colab": {
          "base_uri": "https://localhost:8080/"
        },
        "id": "la6nu8asCbUc",
        "outputId": "a32aa146-3f3c-4f26-d07a-abcb83c733bb"
      },
      "execution_count": 31,
      "outputs": [
        {
          "output_type": "stream",
          "name": "stdout",
          "text": [
            "Bienvenido al juego de la Torre de Hanoi\n",
            "\n",
            "Voy a mostarte como moverte para jugar este juego! \n",
            "\n",
            "Ten en cuenta que tu juego y los pilares nombrados se ven asi: \n",
            "\n",
            "    |     |     |   \n",
            "    |     |     |   \n",
            "    |     |     |   \n",
            "   ___   ___   ___  \n",
            "    A     B     C\n",
            "\n",
            "Ingresa el número de discos con los que vas a jugar: a\n",
            "\n",
            "Debes ingresar un número de valor entero \n",
            "\n",
            "Ingresa el número de discos con los que vas a jugar: 0\n",
            "\n",
            "Pon un numero valido \n",
            "\n",
            "Ingresa el número de discos con los que vas a jugar: 4\n",
            "Los movimientos que debes realizar son los siguientes: \n",
            "\n",
            "Mover disco 1 desde A hasta B\n",
            "Mover disco 2 desde A hasta C\n",
            "Mover disco 1 desde B hasta C\n",
            "Mover disco 3 desde A hasta B\n",
            "Mover disco 1 desde C hasta A\n",
            "Mover disco 2 desde C hasta B\n",
            "Mover disco 1 desde A hasta B\n",
            "Mover disco 4 desde A hasta C\n",
            "Mover disco 1 desde B hasta C\n",
            "Mover disco 2 desde B hasta A\n",
            "Mover disco 1 desde C hasta A\n",
            "Mover disco 3 desde B hasta C\n",
            "Mover disco 1 desde A hasta B\n",
            "Mover disco 2 desde A hasta C\n",
            "Mover disco 1 desde B hasta C\n"
          ]
        }
      ]
    }
  ]
}