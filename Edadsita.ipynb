{
  "nbformat": 4,
  "nbformat_minor": 0,
  "metadata": {
    "colab": {
      "provenance": [],
      "toc_visible": true,
      "authorship_tag": "ABX9TyNOWVDrCKWA2v78sElmDEYQ",
      "include_colab_link": true
    },
    "kernelspec": {
      "name": "python3",
      "display_name": "Python 3"
    },
    "language_info": {
      "name": "python"
    }
  },
  "cells": [
    {
      "cell_type": "markdown",
      "metadata": {
        "id": "view-in-github",
        "colab_type": "text"
      },
      "source": [
        "<a href=\"https://colab.research.google.com/github/Daianb/TareasProgramacion/blob/master/Edadsita.ipynb\" target=\"_parent\"><img src=\"https://colab.research.google.com/assets/colab-badge.svg\" alt=\"Open In Colab\"/></a>"
      ]
    },
    {
      "cell_type": "code",
      "execution_count": null,
      "metadata": {
        "id": "jci76M5JghD2"
      },
      "outputs": [],
      "source": [
        "edad = int(input(\"Por favor ingresa tu edad \"))\n",
        "if edad <= 0:\n",
        " print(\"Edad no valida, ponte serio\")\n",
        "else: \n",
        "  if edad == 18:\n",
        "    mes = int(input(\"Ingresa tu mes de nacimiento numericamente por favor \"))\n",
        "    if mes <= 2:\n",
        "       print(\"Que bueno eres mayor de edad! \")\n",
        "    else: \n",
        "       print(\"Sigues siendo un menor de edad\")\n",
        "    if edad > 18:\n",
        "      print(\"Felicidades eres mayor de edad.. \")\n",
        "  else:\n",
        "     print(\"Aww eres un bbsito menor de edad \")"
      ]
    }
  ]
}