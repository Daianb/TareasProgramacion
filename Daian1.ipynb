{
  "nbformat": 4,
  "nbformat_minor": 0,
  "metadata": {
    "colab": {
      "provenance": [],
      "authorship_tag": "ABX9TyOo6Gw9ePd/9ztOPu88/lUq",
      "include_colab_link": true
    },
    "kernelspec": {
      "name": "python3",
      "display_name": "Python 3"
    },
    "language_info": {
      "name": "python"
    }
  },
  "cells": [
    {
      "cell_type": "markdown",
      "metadata": {
        "id": "view-in-github",
        "colab_type": "text"
      },
      "source": [
        "<a href=\"https://colab.research.google.com/github/Daianb/TareasProgramacion/blob/master/Daian1.ipynb\" target=\"_parent\"><img src=\"https://colab.research.google.com/assets/colab-badge.svg\" alt=\"Open In Colab\"/></a>"
      ]
    },
    {
      "cell_type": "code",
      "execution_count": null,
      "metadata": {
        "id": "ne4jpnDLkmrc"
      },
      "outputs": [],
      "source": []
    },
    {
      "cell_type": "code",
      "execution_count": 8,
      "metadata": {
        "id": "EkRln4VEnoGe"
      },
      "outputs": [],
      "source": [
        "import math\n",
        "class Vector:\n",
        "  def __init__(self, coordenada_x, coordenada_y,coordenada_z):\n",
        "    self.x = coordenada_x\n",
        "    self.y = coordenada_y\n",
        "    self.z = coordenada_z\n",
        "    self.magnitud = (self.x**2 + self.y**2 + self.z**2)**0.5\n",
        "  def __str__(self):\n",
        "    respuesta = \"( \"+str(self.x)+\" , \"+str(self.y)+\" , \"+str(self.z)+\" )\"\n",
        "    return(respuesta)\n",
        "  def suma(self, otra):\n",
        "    respuesta = Vector(self.x+otra.x,self.y+otra.y,self.z+otra.z)\n",
        "    return(respuesta)\n",
        "  #def escalar(self, otra):\n",
        "    return(self.x*otra.x+self.y*otra.y+self.z*otra.z)\n",
        "  def __mul__(self, escalar):\n",
        "    resultado = Vector(escalar*self.x,escalar*self.y,escalar*self.z)\n",
        "    return(resultado)\n",
        "  \n",
        "  "
      ]
    },
    {
      "cell_type": "code",
      "source": [
        "# Defino vectores\n",
        "print('-'*19,'Cordenadas','-'*19)\n",
        "print(\"Ingrese coordenadas del Vector 1\")\n",
        "x_1 = float(input(\"Ingrese coordenada X1: \"))\n",
        "y_1 = float(input(\"Ingrese coordenada Y1: \"))\n",
        "z_1 = float(input(\"Ingrese coordenada Z1: \"))\n",
        "\n",
        "print(\"Ingrese coordenadas del Vector 2\")\n",
        "x_2 = float(input(\"Ingrese coordenada X2: \"))\n",
        "y_2 = float(input(\"Ingrese coordenada Y2: \"))\n",
        "z_2 = float(input(\"Ingrese coordenada Z2: \"))\n",
        "print('-'*20,'Vectores','-'*20)\n",
        "vec_1=Vector(x_1, y_1, z_1)\n",
        "vec_2=Vector(x_2, y_2, z_2)\n",
        "v1 = []\n",
        "v2 = []\n",
        "print(\"Vector 1:\",vec_1)\n",
        "print(\"Vector 2:\",vec_2)\n",
        "print('-'*22,'Suma','-'*22)\n",
        "print(vec_1.suma(vec_2))\n",
        "print('-'*16,'Producto Escalar','-'*16)\n",
        "var = float(input('Ingrese un valor escalar para multiplicar por un vector: '))\n",
        "print(\"¿Por cuál vector quisiera multiplicarlo?: \")\n",
        "var2 = input(' Vector ¿1 o 2? ')\n",
        "if var2 == '1':\n",
        "  print(var, '* Vector 1 = ', vec_1*var)\n",
        "elif var2 == '2':\n",
        "  print(var,'* Vector 2 = ', vec_2*var)\n",
        "else:\n",
        "  print('Ingrese un valor válido')"
      ],
      "metadata": {
        "colab": {
          "base_uri": "https://localhost:8080/"
        },
        "id": "KJDgprK4vQQP",
        "outputId": "e274c5ab-828b-43d6-efc1-30914c25388a"
      },
      "execution_count": 12,
      "outputs": [
        {
          "output_type": "stream",
          "name": "stdout",
          "text": [
            "------------------- Cordenadas -------------------\n",
            "Ingrese coordenadas del Vector 1\n",
            "Ingrese coordenada X1: 4\n",
            "Ingrese coordenada Y1: 6\n",
            "Ingrese coordenada Z1: 8\n",
            "Ingrese coordenadas del Vector 2\n",
            "Ingrese coordenada X2: 2\n",
            "Ingrese coordenada Y2: 5\n",
            "Ingrese coordenada Z2: 7\n",
            "-------------------- Vectores --------------------\n",
            "Vector 1: ( 4.0 , 6.0 , 8.0 )\n",
            "Vector 2: ( 2.0 , 5.0 , 7.0 )\n",
            "---------------------- Suma ----------------------\n",
            "( 6.0 , 11.0 , 15.0 )\n",
            "---------------- Producto Escalar ----------------\n",
            "Ingrese un valor escalar para multiplicar por un vector: 5\n",
            "¿Por cuál vector quisiera multiplicarlo?: \n",
            " Vector ¿1 o 2? 5\n",
            "Ingrese un valor válido\n"
          ]
        }
      ]
    },
    {
      "cell_type": "code",
      "source": [
        "print(\"Calcula la posicion final de un objeto en movimiento \\n\" )\n",
        "print(\"Supongamos que un objeto se mueve en linea recta a una velocidad constante \\n\")\n",
        "print(\"Vamos a calcular su posicion final despues de un cierto tiempo \\n\")\n",
        "\n",
        "#Definimos los vectores de posicion inicial y de velocidad\n",
        "\n",
        "print(\"Ingrese coordenadas vector inicial: \")\n",
        "xa = float(input(\"Ingrese coordenadas en X: \"))\n",
        "ya = float(input(\"Ingrese coordenadas en Y: \"))\n",
        "inicial = (xa, ya)\n",
        "\n",
        "print(\"\\nIngrese coordenadas del vector de velocidad: \")\n",
        "xb = float(input(\"Ingrese coordenadas en X: \"))\n",
        "yb = float(input(\"Ingrese coordenadas en Y: \"))\n",
        "velocidad = (xb, yb)\n",
        "\n",
        "t = float(input(\"\\nIngrese el tiempo transcurrido en segundos: \"))\n",
        "final = (xa + xb*t, ya + yb*t)\n",
        "\n",
        "print(\"\\nLa posicion final del objeto es: \")\n",
        "print(final) \n"
      ],
      "metadata": {
        "colab": {
          "base_uri": "https://localhost:8080/"
        },
        "id": "uQzts5LLIiiK",
        "outputId": "7f8e5ac9-3c02-408d-9e79-385bebe6350b"
      },
      "execution_count": null,
      "outputs": [
        {
          "output_type": "stream",
          "name": "stdout",
          "text": [
            "Calcula pa posici[on final de un objeto en movimiento \n",
            "\n",
            "Supongamos que un objeto se mueve en linea recta a una velocidad constante \n",
            "\n",
            "Vamos a calcular su posicion final despues de un cierto tiempo \n",
            "\n",
            "Ingrese coordenadas vector inicial: \n"
          ]
        }
      ]
    },
    {
      "cell_type": "code",
      "source": [
        "#A continuacion el programa con aplicacion a la fisica\n",
        "#Bueno ignorar por el momento porque no sale xD \n",
        "\n",
        "#print(\"\")\n",
        "print(\"Cálculo de la fuerza resultante sobre un objeto que se encuentra en un campo gravitatorio\" \"\\n\")\n",
        "print(\"Ingrese masa de la particula en kg\")\n",
        "m = float(input(\"m: \"))\n",
        "print(\"Ingrese la posición de la particula en metros\")\n",
        "r = float(input(\"r: \"))\n",
        "rr = (0.0, 0.0, r)\n",
        "g = (0.0, 0.0, -9.81)\n",
        "print(\"Ingrese la fuerza externa en N\")\n",
        "f = float(input(\"f: \"))\n",
        "F = (f, 0.0, 0.0)\n",
        "\n",
        "#Calculamos la fuerza resultante\n",
        "Fg = (m * g[i] for i in range(3))\n",
        "Fr = (F[i] * Fg[i] for i in range(3))\n",
        "\n",
        "print('-'*19, \" Fuerza gravitatoria \",'-'*19)\n",
        "print(Fg)\n",
        "print('-'*22, \" Fuerza externa \", '-'*22)\n",
        "print(F)\n",
        "print('-'*20,\" Fuerza resultante \", '-'*20)\n",
        "print(Fr)"
      ],
      "metadata": {
        "id": "Yuyd6DyWmw8D",
        "colab": {
          "base_uri": "https://localhost:8080/"
        },
        "outputId": "721fb744-7762-4712-bca5-00098aabb79b"
      },
      "execution_count": 20,
      "outputs": [
        {
          "output_type": "stream",
          "name": "stdout",
          "text": [
            "Cálculo de la fuerza resultante sobre un objeto que se encuentra en un campo gravitatorio\n",
            "\n",
            "Ingrese masa de la particula en kg\n",
            "m: 4\n",
            "Ingrese la posición de la particula en metros\n",
            "r: 9\n",
            "Ingrese la fuerza externa en N\n",
            "f: 3\n",
            "-------------------  Fuerza gravitatoria  -------------------\n",
            "<generator object <genexpr> at 0x7f4f9802bcf0>\n",
            "----------------------  Fuerza externa  ----------------------\n",
            "(3.0, 0.0, 0.0)\n",
            "--------------------  Fuerza resultante  --------------------\n",
            "<generator object <genexpr> at 0x7f4f9802bc80>\n"
          ]
        }
      ]
    }
  ]
}