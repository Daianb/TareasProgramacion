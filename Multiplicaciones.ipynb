{
  "nbformat": 4,
  "nbformat_minor": 0,
  "metadata": {
    "colab": {
      "provenance": [],
      "authorship_tag": "ABX9TyNtbEeMLROoOqHOagl1dRLm",
      "include_colab_link": true
    },
    "kernelspec": {
      "name": "python3",
      "display_name": "Python 3"
    },
    "language_info": {
      "name": "python"
    }
  },
  "cells": [
    {
      "cell_type": "markdown",
      "metadata": {
        "id": "view-in-github",
        "colab_type": "text"
      },
      "source": [
        "<a href=\"https://colab.research.google.com/github/Daianb/TareasProgramacion/blob/master/Multiplicaciones.ipynb\" target=\"_parent\"><img src=\"https://colab.research.google.com/assets/colab-badge.svg\" alt=\"Open In Colab\"/></a>"
      ]
    },
    {
      "cell_type": "code",
      "execution_count": null,
      "metadata": {
        "colab": {
          "base_uri": "https://localhost:8080/"
        },
        "id": "hGvzhusqcpn5",
        "outputId": "4af3c58e-5399-4a93-a418-4fc7029df6d6"
      },
      "outputs": [
        {
          "output_type": "stream",
          "name": "stdout",
          "text": [
            "102\n",
            "( 8 , 18 , 6 )\n"
          ]
        }
      ],
      "source": [
        "import math\n",
        "class Vec:\n",
        "  def __init__(self, x, y, z):\n",
        "      self.x = x\n",
        "      self.y = y\n",
        "      self.z = z\n",
        "  def __str__(self):\n",
        "      cadenita = \"( \"+str(self.x)+\" , \"+str(self.y)+\" , \"+str(self.z)+\" )\"\n",
        "      return(cadenita)\n",
        "  def __mul__(self, otra):\n",
        "    if type(otra)==type(self):\n",
        "      resul = otra.x*self.x+otra.y*self.y+otra.z*self.z\n",
        "      return(resul)\n",
        "    else:\n",
        "      resu = Vec(self.x*otra,self.y*otra,self.z*otra)\n",
        "      return(resu)\n",
        "  def __rmul__(self, otra):\n",
        "    if type(otra)==type(self):\n",
        "      resultado = otra.x*self.x+otra.y*self.y+otra.z*self.z\n",
        "      return(resultado)\n",
        "    else:\n",
        "      result = Vec(self.x*otra,self.y*otra,self.z*otra)\n",
        "      return(result)\n",
        "\n",
        "\n",
        "V1 = Vec(4,9,3)\n",
        "V2 = Vec(6,8,2)\n",
        "\n",
        "V = V1*V2\n",
        "W = 2*V1\n",
        "\n",
        "print(V)\n",
        "print(W)\n",
        "\n",
        "\n",
        "\n"
      ]
    }
  ]
}